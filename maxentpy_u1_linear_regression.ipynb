{
 "cells": [
  {
   "cell_type": "code",
   "execution_count": 26,
   "metadata": {},
   "outputs": [],
   "source": [
    "import pandas as pd\n",
    "import numpy as np\n",
    "from maxentpy.maxentpy import maxent\n",
    "from sklearn.linear_model import LinearRegression\n",
    "\n",
    "\n",
    "# Load training data\n",
    "training_kmers = pd.read_csv('train/data/train.tsv', sep='\\t')['sequence']\n",
    "training_labels = pd.read_csv('train/data/train.tsv', sep='\\t')['label']\n",
    "\n",
    "def kmer2seq(kmers):\n",
    "    \"\"\"\n",
    "    Convert kmers to original sequence\n",
    "    \n",
    "    Arguments:\n",
    "    kmers -- str, kmers separated by space.\n",
    "    \n",
    "    Returns:\n",
    "    seq -- str, original sequence.\n",
    "    \"\"\"\n",
    "    kmers_list = kmers.split(\" \")\n",
    "    bases = [kmer[0] for kmer in kmers_list[0:-1]]\n",
    "    bases.append(kmers_list[-1])\n",
    "    seq = \"\".join(bases)\n",
    "    assert len(seq) == len(kmers_list) + len(kmers_list[0]) - 1\n",
    "    return seq\n",
    "    \n",
    "# Convert kmers back to sequences\n",
    "training_kmers = [kmer2seq(kmer) for kmer in training_kmers]"
   ]
  },
  {
   "cell_type": "code",
   "execution_count": 40,
   "metadata": {},
   "outputs": [],
   "source": [
    "def seq2kmer(seq, k):\n",
    "    \"\"\"\n",
    "    Convert original sequence to kmers\n",
    "    \n",
    "    Arguments:\n",
    "    seq -- str, original sequence.\n",
    "    k -- int, kmer of length k specified.\n",
    "    \n",
    "    Returns:\n",
    "    kmers -- str, kmers separated by space\n",
    "    \"\"\"\n",
    "    kmer = [seq[x:x+k] for x in range(len(seq)+1-k)]\n",
    "    kmers = \" \".join(kmer)\n",
    "    return kmers\n",
    "slide = [seq2kmer(seq, 9) for seq in training_kmers]"
   ]
  },
  {
   "cell_type": "code",
   "execution_count": 51,
   "metadata": {},
   "outputs": [],
   "source": [
    "# slide = [slide[i].split(\" \") for i in range(1, len(slide))]\n",
    "scores = []\n",
    "for i in range(0, 2):\n",
    "    score_at_i = []\n",
    "    for j in range(0, len(slide[i])):\n",
    "        score_at_i.append(((maxent.score5(slide[i][j])), slide[i][j]))\n",
    "    scores.append(score_at_i)"
   ]
  }
 ],
 "metadata": {
  "kernelspec": {
   "display_name": "Python 3.6.15 ('transformer')",
   "language": "python",
   "name": "python3"
  },
  "language_info": {
   "codemirror_mode": {
    "name": "ipython",
    "version": 3
   },
   "file_extension": ".py",
   "mimetype": "text/x-python",
   "name": "python",
   "nbconvert_exporter": "python",
   "pygments_lexer": "ipython3",
   "version": "3.6.15"
  },
  "orig_nbformat": 4,
  "vscode": {
   "interpreter": {
    "hash": "83b8464dbb052d81911aaaacd0dd908c7d09515d53271f159ad22fa642d6bb62"
   }
  }
 },
 "nbformat": 4,
 "nbformat_minor": 2
}
