{
 "cells": [
  {
   "cell_type": "code",
   "execution_count": 60,
   "metadata": {},
   "outputs": [],
   "source": [
    "from utils.kmers import kMerDF, kMer\n",
    "import numpy as np\n",
    "import pandas as pd\n",
    "import numpy as np\n",
    "import seaborn as sns\n",
    "import matplotlib.pyplot as plt\n",
    "import matplotlib as mpl\n",
    "from scipy import stats\n",
    "from Bio import SeqIO"
   ]
  },
  {
   "cell_type": "code",
   "execution_count": 32,
   "metadata": {},
   "outputs": [],
   "source": [
    "#Load attention scores, convert to numpy array\n",
    "expl_scores = pd.read_csv('examples/DNABERTexpl.csv')['scores']\n",
    "expl_scores = [str(i).split(' ') for i in expl_scores]\n",
    "expl_scores = np.array(expl_scores).astype(float)\n",
    "\n",
    "validation_labels = np.array(pd.read_csv('examples/DNABERTexpl.csv')['label'])\n",
    "\n",
    "#load DNA sequences and their labels, convert to numpy arrays.\n",
    "dnadf = pd.read_csv('examples/XLTestingData.csv')['b3']\n",
    "dnadf = np.array([str(i).split(' ') for i in dnadf])\n",
    "labels = pd.read_csv('examples/XLTestingData.csv')['label'].to_numpy()\n",
    "\n",
    "\n",
    "#make sure all the sequences in both dataframes are sorted in the same order\n",
    "assert validation_labels.all() == labels.all()"
   ]
  },
  {
   "cell_type": "code",
   "execution_count": 61,
   "metadata": {},
   "outputs": [
    {
     "ename": "AttributeError",
     "evalue": "'kMerDF' object has no attribute 'kmerdf'",
     "output_type": "error",
     "traceback": [
      "\u001b[1;31m---------------------------------------------------------------------------\u001b[0m",
      "\u001b[1;31mAttributeError\u001b[0m                            Traceback (most recent call last)",
      "Cell \u001b[1;32mIn [61], line 5\u001b[0m\n\u001b[0;32m      2\u001b[0m X \u001b[38;5;241m=\u001b[39m kMerDF(expl_scores, dnadf, labels)\n\u001b[0;32m      4\u001b[0m \u001b[38;5;66;03m#get the kMer object at row 0, column 0\u001b[39;00m\n\u001b[1;32m----> 5\u001b[0m \u001b[38;5;28mprint\u001b[39m(\u001b[38;5;124m'\u001b[39m\u001b[38;5;124mkMerDF[0][506]: \u001b[39m\u001b[38;5;124m'\u001b[39m \u001b[38;5;241m+\u001b[39m \u001b[43mX\u001b[49m\u001b[38;5;241;43m.\u001b[39;49m\u001b[43mget_kmer\u001b[49m\u001b[43m(\u001b[49m\u001b[38;5;241;43m0\u001b[39;49m\u001b[43m,\u001b[49m\u001b[43m \u001b[49m\u001b[38;5;241;43m506\u001b[39;49m\u001b[43m)\u001b[49m\u001b[38;5;241m.\u001b[39mseq)\n\u001b[0;32m      7\u001b[0m \u001b[38;5;66;03m#showing this is the same kmer as the first in the dnadf\u001b[39;00m\n\u001b[0;32m      8\u001b[0m \u001b[38;5;28mprint\u001b[39m(\u001b[38;5;124m'\u001b[39m\u001b[38;5;124mdnadf[0][506]: \u001b[39m\u001b[38;5;124m'\u001b[39m \u001b[38;5;241m+\u001b[39m dnadf[\u001b[38;5;241m0\u001b[39m][\u001b[38;5;241m506\u001b[39m])\n",
      "File \u001b[1;32mc:\\Users\\aiden\\Polylong\\utils\\kmers.py:53\u001b[0m, in \u001b[0;36mkMerDF.get_kmer\u001b[1;34m(self, row, col)\u001b[0m\n\u001b[0;32m     49\u001b[0m \u001b[39mdef\u001b[39;00m \u001b[39mget_kmer\u001b[39m(\u001b[39mself\u001b[39m, row, col):\n\u001b[0;32m     50\u001b[0m     \u001b[39m\"\"\"\u001b[39;00m\n\u001b[0;32m     51\u001b[0m \u001b[39m    Returns the kMer object at the given row (ID) and column (position).\u001b[39;00m\n\u001b[0;32m     52\u001b[0m \u001b[39m    \"\"\"\u001b[39;00m\n\u001b[1;32m---> 53\u001b[0m     \u001b[39mreturn\u001b[39;00m \u001b[39mself\u001b[39;49m\u001b[39m.\u001b[39;49mkmerdf[row, col]\n",
      "\u001b[1;31mAttributeError\u001b[0m: 'kMerDF' object has no attribute 'kmerdf'"
     ]
    }
   ],
   "source": [
    "#create the kMerDF object\n",
    "X = kMerDF(expl_scores, dnadf, labels)\n",
    "\n",
    "#get the kMer object at row 0, column 0\n",
    "print('kMerDF[0][506]: ' + X.get_kmer(0, 506).seq)\n",
    "\n",
    "#showing this is the same kmer as the first in the dnadf\n",
    "print('dnadf[0][506]: ' + dnadf[0][506])"
   ]
  },
  {
   "cell_type": "code",
   "execution_count": 53,
   "metadata": {},
   "outputs": [
    {
     "data": {
      "text/plain": [
       "47803"
      ]
     },
     "execution_count": 53,
     "metadata": {},
     "output_type": "execute_result"
    }
   ],
   "source": [
    "len(X.filter_kmers(1.0))"
   ]
  }
 ],
 "metadata": {
  "kernelspec": {
   "display_name": "Python 3.10.7 64-bit",
   "language": "python",
   "name": "python3"
  },
  "language_info": {
   "codemirror_mode": {
    "name": "ipython",
    "version": 3
   },
   "file_extension": ".py",
   "mimetype": "text/x-python",
   "name": "python",
   "nbconvert_exporter": "python",
   "pygments_lexer": "ipython3",
   "version": "3.10.7"
  },
  "orig_nbformat": 4,
  "vscode": {
   "interpreter": {
    "hash": "369f2c481f4da34e4445cda3fffd2e751bd1c4d706f27375911949ba6bb62e1c"
   }
  }
 },
 "nbformat": 4,
 "nbformat_minor": 2
}
