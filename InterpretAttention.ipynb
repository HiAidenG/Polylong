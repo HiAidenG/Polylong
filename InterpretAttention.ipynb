{
 "cells": [
  {
   "cell_type": "code",
   "execution_count": 2,
   "metadata": {},
   "outputs": [],
   "source": [
    "from utils.kmers import kMerDF, kMer\n",
    "import utils.kmers as utils\n",
    "import numpy as np\n",
    "import pandas as pd\n",
    "import numpy as np\n",
    "import seaborn as sns\n",
    "import matplotlib.pyplot as plt\n",
    "import matplotlib as mpl\n",
    "from scipy import stats\n",
    "from Bio import SeqIO"
   ]
  },
  {
   "cell_type": "code",
   "execution_count": 3,
   "metadata": {},
   "outputs": [],
   "source": [
    "#Load attention scores, convert to numpy array\n",
    "expl_scores = pd.read_csv('examples/DNABERTexpl.csv')['scores']\n",
    "expl_scores = [str(i).split(' ') for i in expl_scores]\n",
    "expl_scores = np.array(expl_scores).astype(float)\n",
    "\n",
    "validation_labels = np.array(pd.read_csv('examples/DNABERTexpl.csv')['label'])\n",
    "\n",
    "#load DNA sequences and their labels, convert to numpy arrays.\n",
    "dnadf = pd.read_csv('examples/XLTestingData.csv')['b3']\n",
    "dnadf = np.array([str(i).split(' ') for i in dnadf])\n",
    "labels = pd.read_csv('examples/XLTestingData.csv')['label'].to_numpy()\n",
    "\n",
    "\n",
    "#make sure all the sequences in both dataframes are sorted in the same order\n",
    "assert validation_labels.all() == labels.all()"
   ]
  },
  {
   "cell_type": "code",
   "execution_count": 4,
   "metadata": {},
   "outputs": [
    {
     "name": "stdout",
     "output_type": "stream",
     "text": [
      "kMerDF[0][506]: CAGGCG\n",
      "dnadf[0][506]: CAGGCG\n"
     ]
    }
   ],
   "source": [
    "#create the kMerDF object\n",
    "X = kMerDF(expl_scores, dnadf, labels)\n",
    "\n",
    "#get the kMer object at row 0, column 506\n",
    "print('kMerDF[0][506]: ' + X.get_kmer(0, 506).seq)\n",
    "\n",
    "#showing this is the same kmer as the first in the dnadf\n",
    "print('dnadf[0][506]: ' + dnadf[0][506])"
   ]
  },
  {
   "cell_type": "code",
   "execution_count": null,
   "metadata": {},
   "outputs": [],
   "source": [
    "with open('contig_kmers.fa', 'a') as f:\n",
    "    for l in X.get_contiguous_kmers(zscore = 1): #get contiguous regions with z-score >= 1.\n",
    "        if l != [] and l[0].pos <= 100: #TODO: weird behavior of get_contiguous_kmers with the empty lists\n",
    "            # write a unique sequence header\n",
    "            f.write('>ID' + str(l[0].ID) + 'label' + str(l[0].label) + ':' + str(l[0].pos) + '\\n')\n",
    "            r_seq = ''\n",
    "            for kmer in l: #l is a list of kMer objects\n",
    "                r_seq += kmer.seq + ' '\n",
    "            f.write(utils.kmer2seq(r_seq.strip()) + '\\n')\n",
    "\n",
    "# TODO: check the other bins, so positions 100-200, 200-300, 300-400, 400-507. "
   ]
  },
  {
   "cell_type": "markdown",
   "metadata": {},
   "source": [
    "Here, I plug in the results from the previous cell into DREME, using positive sequences as a query and negative as the control."
   ]
  }
 ],
 "metadata": {
  "kernelspec": {
   "display_name": "Python 3.10.7 64-bit",
   "language": "python",
   "name": "python3"
  },
  "language_info": {
   "codemirror_mode": {
    "name": "ipython",
    "version": 3
   },
   "file_extension": ".py",
   "mimetype": "text/x-python",
   "name": "python",
   "nbconvert_exporter": "python",
   "pygments_lexer": "ipython3",
   "version": "3.10.7"
  },
  "orig_nbformat": 4,
  "vscode": {
   "interpreter": {
    "hash": "369f2c481f4da34e4445cda3fffd2e751bd1c4d706f27375911949ba6bb62e1c"
   }
  }
 },
 "nbformat": 4,
 "nbformat_minor": 2
}
